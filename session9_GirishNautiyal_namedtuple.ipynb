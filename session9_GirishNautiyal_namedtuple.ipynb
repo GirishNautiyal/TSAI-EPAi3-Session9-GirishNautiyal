{
  "nbformat": 4,
  "nbformat_minor": 0,
  "metadata": {
    "colab": {
      "name": "session9-GirishNautiyal_namedtuple.ipynb",
      "provenance": [],
      "include_colab_link": true
    },
    "kernelspec": {
      "name": "Python 3.7.7 64-bit",
      "display_name": "Python 3.7.7 64-bit",
      "metadata": {
        "interpreter": {
          "hash": "aee8b7b246df8f9039afb4144a1f6fd8d2ca17a180786b69acc140d282b71a49"
        }
      }
    }
  },
  "cells": [
    {
      "cell_type": "markdown",
      "metadata": {
        "id": "view-in-github",
        "colab_type": "text"
      },
      "source": [
        "<a href=\"https://colab.research.google.com/github/GirishNautiyal/TSAI-EPAi3-Session9-GirishNautiyal/blob/main/session9_GirishNautiyal_namedtuple.ipynb\" target=\"_parent\"><img src=\"https://colab.research.google.com/assets/colab-badge.svg\" alt=\"Open In Colab\"/></a>"
      ]
    },
    {
      "cell_type": "code",
      "metadata": {
        "id": "BXRWPkWawYhl",
        "colab": {
          "base_uri": "https://localhost:8080/"
        },
        "outputId": "73ec1dea-63d1-4a5b-b134-e355c0b351c0"
      },
      "source": [
        "# This is needed if you are running on Google Colab\n",
        "!pip install faker"
      ],
      "execution_count": 1,
      "outputs": [
        {
          "output_type": "stream",
          "text": [
            "Collecting faker\n",
            "\u001b[?25l  Downloading https://files.pythonhosted.org/packages/e4/be/d03e305f1d879f541c23d586023ec11b124d6cc3d75a95159470754134d9/Faker-8.10.0-py3-none-any.whl (1.2MB)\n",
            "\u001b[K     |████████████████████████████████| 1.2MB 4.1MB/s \n",
            "\u001b[?25hRequirement already satisfied: text-unidecode==1.3 in /usr/local/lib/python3.7/dist-packages (from faker) (1.3)\n",
            "Requirement already satisfied: python-dateutil>=2.4 in /usr/local/lib/python3.7/dist-packages (from faker) (2.8.1)\n",
            "Requirement already satisfied: six>=1.5 in /usr/local/lib/python3.7/dist-packages (from python-dateutil>=2.4->faker) (1.15.0)\n",
            "Installing collected packages: faker\n",
            "Successfully installed faker-8.10.0\n"
          ],
          "name": "stdout"
        }
      ]
    },
    {
      "cell_type": "code",
      "metadata": {
        "id": "Qo2m6Ij-uOX5"
      },
      "source": [
        "# Imports\n",
        "import math\n",
        "import operator\n",
        "import random\n",
        "import time\n",
        "from functools import singledispatch, wraps\n",
        "import datetime\n",
        "from time import perf_counter\n",
        "from faker import Faker\n",
        "from collections import namedtuple\n",
        "import re\n",
        "import string"
      ],
      "execution_count": 2,
      "outputs": []
    },
    {
      "cell_type": "code",
      "metadata": {
        "id": "-GfzDkcwuiBL"
      },
      "source": [
        "fake = Faker()"
      ],
      "execution_count": 3,
      "outputs": []
    },
    {
      "cell_type": "code",
      "metadata": {
        "id": "gkxf7L6LxnWc"
      },
      "source": [
        "def timed_dec(fn):\n",
        "    \"\"\"\n",
        "    This is a decorator which can run a function n times\n",
        "    and returns the avg run time ( n times )\n",
        "    \"\"\"\n",
        "    @wraps(fn)\n",
        "    def inner(*args, **kwargs):\n",
        "        start = perf_counter()\n",
        "        result = fn(*args, **kwargs)\n",
        "        end = perf_counter()\n",
        "        time_elapsed = (end - start)\n",
        "        print('Run time: {0:.6f}s'.format(time_elapsed))\n",
        "        return result\n",
        "    return inner"
      ],
      "execution_count": 4,
      "outputs": []
    },
    {
      "cell_type": "code",
      "metadata": {
        "id": "0aBXbfvt0D33"
      },
      "source": [
        "def profile_generator_nt(num_profiles: int):\n",
        "    \"\"\"\n",
        "    This function generates random fake user profiles. Each of those profiles is stored\n",
        "    as a namedtuple and a tuple of namedtuples is returned.\n",
        "    The Function takes an integere as an input denoting the number of profiles to be genearted\n",
        "    It returns a tuple of namedtuples containing the generated profiles\n",
        "    \"\"\"\n",
        "    profiles_list = []\n",
        "    profile = namedtuple('profile', \" \".join(list((fake.profile()).keys())))\n",
        "    for i in range(num_profiles):\n",
        "        profiles_list.append(profile(**fake.profile()))\n",
        "    profiles_tuple = tuple(profiles_list)\n",
        "    return profiles_tuple\n",
        "\n",
        "\n",
        "@timed_dec\n",
        "def calc_profile_stats_nt() -> \"namedtuple\":\n",
        "    \"\"\"\n",
        "    This function returns the largest blood type, mean-current_location,\n",
        "    oldest_person_age and average age for a provided namedtuple\n",
        "    \"\"\"\n",
        "    num_profiles = 10000\n",
        "    profiles = profile_generator_nt(num_profiles)\n",
        "    current_date = datetime.date.today()\n",
        "    blood_grp = dict()\n",
        "    max_age = 0\n",
        "    location = [0, 0]\n",
        "    sum_ages = 0\n",
        "    for profile in profiles:\n",
        "        blood_grp[profile.blood_group] = blood_grp[profile.blood_group] + 1 if profile.blood_group in blood_grp else 1\n",
        "        age = (current_date - profile.birthdate).days\n",
        "        max_age = max(max_age, age)\n",
        "        location[0] += profile.current_location[0]\n",
        "        location[1] += profile.current_location[1]\n",
        "        sum_ages += int(age/365)\n",
        "\n",
        "    profile_stat = namedtuple('profile_stat', 'largest_blood_type mean_current_location oldest_person_age average_age')\n",
        "    bg_largest = max(blood_grp, key=blood_grp.get)\n",
        "    mean_current_location = (location[0]/num_profiles, location[1]/num_profiles)\n",
        "    avg_age = round(sum_ages/num_profiles,1)\n",
        "    oldest_person = round(max_age/365,1)\n",
        "    return profile_stat(bg_largest, mean_current_location, oldest_person, avg_age)"
      ],
      "execution_count": 5,
      "outputs": []
    },
    {
      "cell_type": "code",
      "metadata": {
        "id": "nVMSc8qU7ynZ"
      },
      "source": [
        "def profile_generator_dict(num_profiles: int):\n",
        "    \"\"\"\n",
        "    This function generates random fake user profiles. Each of those profiles is stored\n",
        "    as a dictionary and a dictionary of dictionaries is returned.\n",
        "    The Function takes an integere as an input denoting the number of profiles to be genearted\n",
        "    It returns a dictionary of dictionaries containing the generated profiles\n",
        "    \"\"\"\n",
        "    profiles_dict = {}\n",
        "    for i in range(num_profiles):\n",
        "        profiles_dict[i] = fake.profile()\n",
        "    return profiles_dict\n",
        "\n",
        "@timed_dec\n",
        "def calc_profile_stats_dict() -> \"namedtuple\":\n",
        "    \"\"\"\n",
        "    This function returns the largest blood type, mean-current_location,\n",
        "    oldest_person_age and average age for a provided dictionary\n",
        "    \"\"\"\n",
        "    num_profiles = 10000\n",
        "    profiles = profile_generator_dict(num_profiles)\n",
        "    current_date = datetime.date.today()\n",
        "    blood_grp = dict()\n",
        "    max_age = 0\n",
        "    location = [0, 0]\n",
        "    sum_ages = 0\n",
        "    for num in profiles:\n",
        "        blood_grp[profiles[num]['blood_group']] = blood_grp[profiles[num]['blood_group']] + 1 if profiles[num]['blood_group'] in blood_grp else 1\n",
        "        age = (current_date - profiles[num]['birthdate']).days\n",
        "        max_age = max(max_age, age)\n",
        "        location[0] += profiles[num]['current_location'][0]\n",
        "        location[1] += profiles[num]['current_location'][1]\n",
        "        sum_ages += int(age/365)\n",
        "\n",
        "    profile_stat = namedtuple('profile_stat', 'largest_blood_type mean_current_location oldest_person_age average_age')\n",
        "    bg_largest = max(blood_grp, key=blood_grp.get)\n",
        "    mean_current_location = (location[0]/num_profiles, location[1]/num_profiles)\n",
        "    avg_age = round(sum_ages/num_profiles,1)\n",
        "    oldest_person = round(max_age/365,1)\n",
        "    return profile_stat(bg_largest, mean_current_location, oldest_person, avg_age)"
      ],
      "execution_count": 6,
      "outputs": []
    },
    {
      "cell_type": "markdown",
      "metadata": {
        "id": "hJ4yWpMyYnPF"
      },
      "source": [
        "## Comparison of Dict vs NamedTuple"
      ]
    },
    {
      "cell_type": "code",
      "metadata": {
        "id": "sYvuorP7K3dt",
        "colab": {
          "base_uri": "https://localhost:8080/"
        },
        "outputId": "afc634ed-d92b-47d4-c50d-331c0911f9fa"
      },
      "source": [
        "calc_profile_stats_dict()"
      ],
      "execution_count": 13,
      "outputs": [
        {
          "output_type": "stream",
          "text": [
            "Run time: 14.970924s\n"
          ],
          "name": "stdout"
        },
        {
          "output_type": "execute_result",
          "data": {
            "text/plain": [
              "profile_stat(largest_blood_type='O-', mean_current_location=(Decimal('-0.4376777818'), Decimal('1.0300693256')), oldest_person_age=116.1, average_age=58.1)"
            ]
          },
          "metadata": {
            "tags": []
          },
          "execution_count": 13
        }
      ]
    },
    {
      "cell_type": "code",
      "metadata": {
        "id": "uRmrxP1qewqJ",
        "colab": {
          "base_uri": "https://localhost:8080/"
        },
        "outputId": "430ecc8d-ad20-40b2-a000-556d2dfd02a1"
      },
      "source": [
        "calc_profile_stats_nt()"
      ],
      "execution_count": 14,
      "outputs": [
        {
          "output_type": "stream",
          "text": [
            "Run time: 14.918323s\n"
          ],
          "name": "stdout"
        },
        {
          "output_type": "execute_result",
          "data": {
            "text/plain": [
              "profile_stat(largest_blood_type='O-', mean_current_location=(Decimal('-0.2098410182'), Decimal('-1.945046924')), oldest_person_age=116.0, average_age=57.3)"
            ]
          },
          "metadata": {
            "tags": []
          },
          "execution_count": 14
        }
      ]
    },
    {
      "cell_type": "markdown",
      "metadata": {
        "id": "LXIs6VzkY3XG"
      },
      "source": [
        "### NamedTuple is ever so slightly faster in above run. Although it is not very consistent with this example"
      ]
    },
    {
      "cell_type": "code",
      "metadata": {
        "id": "JCqTq6OzLhPS"
      },
      "source": [
        "def companies_generator(num_companies: int):\n",
        "    \"\"\"\n",
        "    This function generates random companies.\n",
        "    The Function takes an integere as an input denoting the number of companies to be genearted\n",
        "    It returns a list of namedtuples containing the generated companies\n",
        "    \"\"\"\n",
        "    companies_list = []\n",
        "    weights_ini = [round(random.random(), 5) for x in range(num_companies)]\n",
        "    sum_weights = sum(weights_ini)\n",
        "    weights = [round(y/sum_weights, 5) for y in weights_ini]\n",
        "    symbols = []\n",
        "    Company = namedtuple('Company', 'Name Symbol Open High Close Weight')\n",
        "    for z in range(num_companies):\n",
        "        company_name = fake.company()\n",
        "        symbol = (''.join([i[0] for i in re.split('[,. ]+', company_name.replace(\"-\", \" \"))])).lower()\n",
        "        temp=''\n",
        "        while True:\n",
        "            if symbol+temp not in symbols:\n",
        "                symbols.append(symbol+temp)\n",
        "                break\n",
        "            temp = random.choice(string.ascii_lowercase)\n",
        "        symbol += temp\n",
        "        open = round(random.randint(10, 4000)*random.uniform(1.0001, 1.0002), 2)\n",
        "        high = round(open*random.uniform(0.8, 1.2), 2)\n",
        "        high = high if high > open else open\n",
        "        close = round(open*random.uniform(0.8, 1.2), 2)\n",
        "        close = close if high > close else high\n",
        "        companies_list.append(Company(company_name, symbol, open, high, close, weights[z]))\n",
        "    return companies_list\n",
        "\n",
        "def imaginary_stock_exchange(num_companies: int) -> \"namedtuple\":\n",
        "    \"\"\"\n",
        "    This function generates an imaginary stock exchange and gives the Index open, high and close of a \n",
        "    small stock exchange simulation of listed stocks.\n",
        "    The Function takes an integere as an input denoting the number of companies to be listed in the stock exchange\n",
        "    It returns a namedtuple containing the generated companies\n",
        "    \"\"\"\n",
        "    companies = companies_generator(num_companies)\n",
        "    index_open = round(sum([c.Open * c.Weight for c in companies]), 2)\n",
        "    index_high = round(sum([c.High * c.Weight for c in companies]), 2)\n",
        "    index_close = round(sum([c.Close * c.Weight for c in companies]), 2)\n",
        "    imaginary_se_nt = namedtuple('imaginary_se_nt', 'Index_Open Index_High Index_Close')\n",
        "    return imaginary_se_nt(index_open, index_high, index_close)"
      ],
      "execution_count": 9,
      "outputs": []
    },
    {
      "cell_type": "code",
      "metadata": {
        "id": "uNLn5E5nOY3H",
        "colab": {
          "base_uri": "https://localhost:8080/"
        },
        "outputId": "2a499095-6483-4f5a-aeb9-c4629cd8a986"
      },
      "source": [
        "imaginary_stock_exchange(100)"
      ],
      "execution_count": 10,
      "outputs": [
        {
          "output_type": "execute_result",
          "data": {
            "text/plain": [
              "imaginary_se_nt(Index_Open=1984.07, Index_High=2084.82, Index_Close=1931.2)"
            ]
          },
          "metadata": {
            "tags": []
          },
          "execution_count": 10
        }
      ]
    },
    {
      "cell_type": "code",
      "metadata": {
        "id": "DOLzCtT8YKb9"
      },
      "source": [
        ""
      ],
      "execution_count": null,
      "outputs": []
    }
  ]
}